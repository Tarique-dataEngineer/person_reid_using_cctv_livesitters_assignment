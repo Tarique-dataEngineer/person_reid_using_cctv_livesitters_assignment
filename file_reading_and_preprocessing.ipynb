{
  "nbformat": 4,
  "nbformat_minor": 0,
  "metadata": {
    "colab": {
      "provenance": []
    },
    "kernelspec": {
      "name": "python3",
      "display_name": "Python 3"
    },
    "language_info": {
      "name": "python"
    }
  },
  "cells": [
    {
      "cell_type": "markdown",
      "source": [
        "**Reading cctv footge using cv2 & Extract frames from the video at a specified frame rate 1 frame p/sfor analysis.**"
      ],
      "metadata": {
        "id": "Oml7aVdi5lib"
      }
    },
    {
      "cell_type": "code",
      "execution_count": 1,
      "metadata": {
        "id": "JrbsOdyL4t2G"
      },
      "outputs": [],
      "source": [
        "import cv2\n",
        "import os"
      ]
    },
    {
      "cell_type": "code",
      "source": [
        "video_capture = cv2.VideoCapture('cctv_footage.mp4')\n",
        "frames = []\n",
        "while True:\n",
        "    ret, frame = video_capture.read()\n",
        "    if not ret:\n",
        "        break\n",
        "    frames.append(frame)"
      ],
      "metadata": {
        "id": "5eJu_n587wSC"
      },
      "execution_count": 5,
      "outputs": []
    },
    {
      "cell_type": "markdown",
      "source": [
        "Preprocess all the frame for further use"
      ],
      "metadata": {
        "id": "c8WSFvY-7Khp"
      }
    },
    {
      "cell_type": "code",
      "source": [
        "import numpy as np\n",
        "\n",
        "def preprocess_frame(frame):\n",
        "    frame = cv2.resize(frame, (224, 224))\n",
        "    frame = cv2.cvtColor(frame, cv2.COLOR_BGR2RGB)  # Convert to RGB format\n",
        "    frame = frame.astype(np.float32)  # Convert to float32\n",
        "    frame = frame / 127.5 - 1.0  # Normalize pixel values to the range [-1, 1]\n",
        "    return frame\n",
        "\n",
        "video_capture = cv2.VideoCapture('cctv_footage.mp4')\n",
        "\n",
        "frame_count = 0\n",
        "\n",
        "while True:\n",
        "    ret, frame = video_capture.read()\n",
        "    if not ret:\n",
        "        break\n",
        "\n",
        "    # Preprocess the frame\n",
        "    preprocessed_frame = preprocess_frame(frame)\n",
        "\n",
        "    # Save the preprocessed frame as an image file on disk because ram don't have much space\n",
        "    frame_filename = f'frame_{frame_count:04d}.jpg'\n",
        "    cv2.imwrite(frame_filename, preprocessed_frame)\n",
        "\n",
        "    frame_count += 1\n",
        "\n",
        "video_capture.release()"
      ],
      "metadata": {
        "id": "GMv5MTOg5qW3"
      },
      "execution_count": 2,
      "outputs": []
    },
    {
      "cell_type": "code",
      "source": [
        "preprocessed_frame"
      ],
      "metadata": {
        "colab": {
          "base_uri": "https://localhost:8080/"
        },
        "id": "T-7POSck7RRr",
        "outputId": "17f10670-c3d3-4843-90f5-99349a148a3b"
      },
      "execution_count": 4,
      "outputs": [
        {
          "output_type": "execute_result",
          "data": {
            "text/plain": [
              "array([[[-0.29411763, -0.3490196 , -0.36470586],\n",
              "        [-0.31764704, -0.372549  , -0.38823527],\n",
              "        [-0.31764704, -0.372549  , -0.38823527],\n",
              "        ...,\n",
              "        [ 0.7176471 ,  0.7647059 ,  0.69411767],\n",
              "        [ 0.7176471 ,  0.7647059 ,  0.69411767],\n",
              "        [ 0.7176471 ,  0.7647059 ,  0.69411767]],\n",
              "\n",
              "       [[-0.27843136, -0.3333333 , -0.3490196 ],\n",
              "        [-0.27058822, -0.32549018, -0.34117645],\n",
              "        [-0.27058822, -0.32549018, -0.34117645],\n",
              "        ...,\n",
              "        [ 0.7176471 ,  0.7647059 ,  0.69411767],\n",
              "        [ 0.7176471 ,  0.7647059 ,  0.69411767],\n",
              "        [ 0.7176471 ,  0.7647059 ,  0.69411767]],\n",
              "\n",
              "       [[-0.27843136, -0.3098039 , -0.3098039 ],\n",
              "        [-0.2862745 , -0.3098039 , -0.3098039 ],\n",
              "        [-0.27843136, -0.3098039 , -0.34117645],\n",
              "        ...,\n",
              "        [ 0.7254902 ,  0.75686276,  0.69411767],\n",
              "        [ 0.7254902 ,  0.75686276,  0.69411767],\n",
              "        [ 0.7254902 ,  0.75686276,  0.69411767]],\n",
              "\n",
              "       ...,\n",
              "\n",
              "       [[-0.27843136, -0.25490195, -0.3490196 ],\n",
              "        [-0.29411763, -0.27058822, -0.36470586],\n",
              "        [-0.27843136, -0.25490195, -0.3490196 ],\n",
              "        ...,\n",
              "        [ 0.01176476,  0.04313731,  0.07450986],\n",
              "        [ 0.01176476,  0.04313731,  0.07450986],\n",
              "        [ 0.01176476,  0.04313731,  0.07450986]],\n",
              "\n",
              "       [[-0.27843136, -0.25490195, -0.3490196 ],\n",
              "        [-0.27843136, -0.25490195, -0.3490196 ],\n",
              "        [-0.27843136, -0.25490195, -0.3490196 ],\n",
              "        ...,\n",
              "        [ 0.03529418,  0.06666672,  0.09803927],\n",
              "        [ 0.03529418,  0.06666672,  0.09803927],\n",
              "        [ 0.03529418,  0.06666672,  0.09803927]],\n",
              "\n",
              "       [[-0.27843136, -0.25490195, -0.3490196 ],\n",
              "        [-0.27843136, -0.25490195, -0.3490196 ],\n",
              "        [-0.27843136, -0.25490195, -0.3490196 ],\n",
              "        ...,\n",
              "        [ 0.04313731,  0.07450986,  0.10588241],\n",
              "        [ 0.05098045,  0.082353  ,  0.11372554],\n",
              "        [ 0.05098045,  0.082353  ,  0.11372554]]], dtype=float32)"
            ]
          },
          "metadata": {},
          "execution_count": 4
        }
      ]
    },
    {
      "cell_type": "code",
      "source": [],
      "metadata": {
        "id": "tDopvHqs7Tkg"
      },
      "execution_count": null,
      "outputs": []
    }
  ]
}